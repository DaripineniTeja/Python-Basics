{
 "cells": [
  {
   "cell_type": "code",
   "execution_count": 2,
   "id": "8362266a",
   "metadata": {},
   "outputs": [
    {
     "name": "stdout",
     "output_type": "stream",
     "text": [
      "Hello WOrld!\n"
     ]
    }
   ],
   "source": [
    "##Python Programming\n",
    "\n",
    "print(\"Hello WOrld!\")"
   ]
  },
  {
   "cell_type": "code",
   "execution_count": 3,
   "id": "0460e2da",
   "metadata": {},
   "outputs": [
    {
     "name": "stdout",
     "output_type": "stream",
     "text": [
      "Daripineni Teja\n"
     ]
    }
   ],
   "source": [
    "#Printing Name using variable\n",
    "\n",
    "name = \"Daripineni Teja\"\n",
    "print(name)"
   ]
  },
  {
   "cell_type": "code",
   "execution_count": 4,
   "id": "bf771df7",
   "metadata": {},
   "outputs": [
    {
     "name": "stdout",
     "output_type": "stream",
     "text": [
      "9\n"
     ]
    }
   ],
   "source": [
    "#printing Numbers\n",
    "\n",
    "num = 9\n",
    "print(num)"
   ]
  },
  {
   "cell_type": "code",
   "execution_count": 5,
   "id": "6f8197cb",
   "metadata": {},
   "outputs": [
    {
     "name": "stdout",
     "output_type": "stream",
     "text": [
      "I am Daripineni Teja\n"
     ]
    }
   ],
   "source": [
    "#Printing Sentence\n",
    "\n",
    "Sen = \"I am Daripineni Teja\"\n",
    "print(Sen)"
   ]
  },
  {
   "cell_type": "markdown",
   "id": "420496ba",
   "metadata": {},
   "source": [
    "**Using # for Commenting the Line it wont get Executed**"
   ]
  },
  {
   "cell_type": "code",
   "execution_count": null,
   "id": "26d847bd",
   "metadata": {},
   "outputs": [],
   "source": []
  },
  {
   "cell_type": "markdown",
   "id": "dbddd670",
   "metadata": {},
   "source": [
    "\n",
    "# Variables"
   ]
  },
  {
   "cell_type": "code",
   "execution_count": 6,
   "id": "e9e4490e",
   "metadata": {},
   "outputs": [
    {
     "name": "stdout",
     "output_type": "stream",
     "text": [
      "Daripineni Teja\n"
     ]
    }
   ],
   "source": [
    "name = \"Daripineni Teja\"  #Variable - name\n",
    "print(name)"
   ]
  },
  {
   "cell_type": "code",
   "execution_count": 7,
   "id": "5fce5d45",
   "metadata": {},
   "outputs": [
    {
     "name": "stdout",
     "output_type": "stream",
     "text": [
      "8352\n"
     ]
    }
   ],
   "source": [
    "number = 8352  #Variable - number\n",
    "print(number)"
   ]
  },
  {
   "cell_type": "code",
   "execution_count": 8,
   "id": "381bdab2",
   "metadata": {},
   "outputs": [
    {
     "name": "stdout",
     "output_type": "stream",
     "text": [
      "True\n"
     ]
    }
   ],
   "source": [
    "boolean = True  #Variable - boolean\n",
    "print(boolean)"
   ]
  },
  {
   "cell_type": "code",
   "execution_count": 9,
   "id": "a2497258",
   "metadata": {},
   "outputs": [
    {
     "name": "stdout",
     "output_type": "stream",
     "text": [
      "Teja\n"
     ]
    }
   ],
   "source": [
    "_a = \"Teja\"\n",
    "print(_a)"
   ]
  },
  {
   "cell_type": "markdown",
   "id": "befee3e5",
   "metadata": {},
   "source": [
    "**We can start  writing variable with _(Underscore ) or Alphabets and should not start with any other Special Characters and numbers**"
   ]
  },
  {
   "cell_type": "markdown",
   "id": "076f4997",
   "metadata": {},
   "source": [
    "# Data Types"
   ]
  },
  {
   "cell_type": "code",
   "execution_count": 10,
   "id": "e93e3483",
   "metadata": {},
   "outputs": [
    {
     "name": "stdout",
     "output_type": "stream",
     "text": [
      "Daripineni Teja\n",
      "<class 'str'>\n"
     ]
    }
   ],
   "source": [
    "Name = \"Daripineni Teja\"  #String\n",
    "print(Name)\n",
    "print(type(Name))"
   ]
  },
  {
   "cell_type": "code",
   "execution_count": 11,
   "id": "0b542f2f",
   "metadata": {},
   "outputs": [
    {
     "name": "stdout",
     "output_type": "stream",
     "text": [
      "8352\n",
      "<class 'int'>\n"
     ]
    }
   ],
   "source": [
    "Num = 8352  #int\n",
    "print(Num)\n",
    "print(type(Num))"
   ]
  },
  {
   "cell_type": "code",
   "execution_count": 12,
   "id": "49208b45",
   "metadata": {},
   "outputs": [
    {
     "name": "stdout",
     "output_type": "stream",
     "text": [
      "390.9\n",
      "<class 'float'>\n"
     ]
    }
   ],
   "source": [
    "float_num = 390.9 #float\n",
    "print(float_num)\n",
    "print(type(float_num))"
   ]
  },
  {
   "cell_type": "code",
   "execution_count": 13,
   "id": "be46d6a1",
   "metadata": {},
   "outputs": [
    {
     "name": "stdout",
     "output_type": "stream",
     "text": [
      "D\n",
      "<class 'str'>\n"
     ]
    }
   ],
   "source": [
    "ch = 'D'\n",
    "print(ch)\n",
    "print(type(ch))"
   ]
  },
  {
   "cell_type": "code",
   "execution_count": 14,
   "id": "8d27fb5f",
   "metadata": {},
   "outputs": [
    {
     "name": "stdout",
     "output_type": "stream",
     "text": [
      "True\n",
      "False\n",
      "<class 'bool'>\n",
      "<class 'bool'>\n"
     ]
    }
   ],
   "source": [
    "boolean1 = True  #boolean\n",
    "boolean2 = False #boolean\n",
    "print(boolean1)\n",
    "print(boolean2)\n",
    "print(type(boolean1))\n",
    "print(type(boolean2))\n",
    "\n",
    "#Python is Case Sensitive Handle with care"
   ]
  },
  {
   "cell_type": "markdown",
   "id": "75ba41dc",
   "metadata": {},
   "source": [
    "**Conditional Statements**\n",
    "\n",
    "**1.If**\n",
    "\n",
    "**2.Else**\n",
    "\n",
    "**3.If-Else**\n",
    "\n",
    "**4.If-Elif-Else**\n",
    "\n",
    "**5.Nested If**"
   ]
  },
  {
   "cell_type": "code",
   "execution_count": 15,
   "id": "81b04cba",
   "metadata": {},
   "outputs": [
    {
     "name": "stdout",
     "output_type": "stream",
     "text": [
      "A is: 20\n"
     ]
    }
   ],
   "source": [
    "a = 20\n",
    "if  a==20:    #if Statement\n",
    "    print(\"A is:\",a)"
   ]
  },
  {
   "cell_type": "code",
   "execution_count": 16,
   "id": "98651453",
   "metadata": {},
   "outputs": [
    {
     "name": "stdout",
     "output_type": "stream",
     "text": [
      "Error\n"
     ]
    }
   ],
   "source": [
    "a = 2\n",
    "if a>20:\n",
    "    print(a)      ##Nested if-else Statement\n",
    "    if a%3==0:\n",
    "        print(a)\n",
    "else:\n",
    "    print(\"Error\")"
   ]
  },
  {
   "cell_type": "code",
   "execution_count": 17,
   "id": "a2bc111c",
   "metadata": {},
   "outputs": [
    {
     "name": "stdout",
     "output_type": "stream",
     "text": [
      "Invalid\n"
     ]
    }
   ],
   "source": [
    "num = 92\n",
    "if num%3 == 0:\n",
    "    print(num)   ###if-else Statement\n",
    "else:\n",
    "    print(\"Invalid\")"
   ]
  },
  {
   "cell_type": "code",
   "execution_count": 18,
   "id": "6ae67074",
   "metadata": {},
   "outputs": [
    {
     "name": "stdout",
     "output_type": "stream",
     "text": [
      "Both are Same\n"
     ]
    }
   ],
   "source": [
    "a = 25\n",
    "b = 333\n",
    "if (a%2==0 & b%3==0):\n",
    "     print(\"A is Even B is Odd\")\n",
    "elif (b%2==0 & a%3==0):                #if-elif-else Statement\n",
    "    print(\"A is Odd B is Even\")\n",
    "else:\n",
    "    print(\"Both are Same\")"
   ]
  },
  {
   "cell_type": "markdown",
   "id": "30e7a61b",
   "metadata": {},
   "source": [
    "**We will Use PEMDAS Rule in Python as BODMAS Rule in Maths**"
   ]
  },
  {
   "cell_type": "markdown",
   "id": "d90275c5",
   "metadata": {},
   "source": [
    "# Data Structure\n",
    "\n",
    "1.List\n",
    "\n",
    "2.Tuples\n",
    "\n",
    "3.sets\n",
    "\n",
    "4.Dictionaries"
   ]
  },
  {
   "cell_type": "markdown",
   "id": "c74c6615",
   "metadata": {},
   "source": [
    "# LIST\n",
    "\n",
    "1.List is Type of Data Structures.\n",
    "\n",
    "2.In List we can Access the Elements by using Index Number.\n",
    "\n",
    "3.It is Mutable.\n",
    "\n",
    "4.We can add or delete element from list.\n",
    "\n",
    "5.List is Enclosed wiith[]"
   ]
  },
  {
   "cell_type": "code",
   "execution_count": 19,
   "id": "0387ac1d",
   "metadata": {},
   "outputs": [
    {
     "name": "stdout",
     "output_type": "stream",
     "text": [
      "['Teja', 'Daripineni', 21]\n"
     ]
    }
   ],
   "source": [
    "list1 = [\"Teja\",\"Daripineni\",21]    #List Declaration\n",
    "print(list1)"
   ]
  },
  {
   "cell_type": "code",
   "execution_count": 20,
   "id": "07dae341",
   "metadata": {},
   "outputs": [
    {
     "name": "stdout",
     "output_type": "stream",
     "text": [
      "['Teja', 'Aravind', 'Daripineni']\n"
     ]
    }
   ],
   "source": [
    "mylist = [\"Teja\",\"Aravind\",\"Daripineni\"]\n",
    "print(mylist)"
   ]
  },
  {
   "cell_type": "code",
   "execution_count": 21,
   "id": "4a67236a",
   "metadata": {},
   "outputs": [
    {
     "data": {
      "text/plain": [
       "3"
      ]
     },
     "execution_count": 21,
     "metadata": {},
     "output_type": "execute_result"
    }
   ],
   "source": [
    "len(mylist)"
   ]
  },
  {
   "cell_type": "code",
   "execution_count": 22,
   "id": "16ffb2f8",
   "metadata": {},
   "outputs": [
    {
     "data": {
      "text/plain": [
       "3"
      ]
     },
     "execution_count": 22,
     "metadata": {},
     "output_type": "execute_result"
    }
   ],
   "source": [
    "len(list1)"
   ]
  },
  {
   "cell_type": "code",
   "execution_count": 23,
   "id": "530fc54e",
   "metadata": {},
   "outputs": [
    {
     "name": "stdout",
     "output_type": "stream",
     "text": [
      "<class 'list'>\n",
      "<class 'list'>\n"
     ]
    }
   ],
   "source": [
    "print(type(list1))\n",
    "print(type(mylist))"
   ]
  },
  {
   "cell_type": "code",
   "execution_count": 24,
   "id": "c535715b",
   "metadata": {},
   "outputs": [
    {
     "name": "stdout",
     "output_type": "stream",
     "text": [
      "['Aravind', 'Teja', 'Daripineni', 21, 24]\n"
     ]
    }
   ],
   "source": [
    "thislist = list((\"Aravind\",\"Teja\",\"Daripineni\",21,24)) #Declaring list using constructor\n",
    "print(thislist)"
   ]
  },
  {
   "cell_type": "code",
   "execution_count": 25,
   "id": "ab95abf4",
   "metadata": {},
   "outputs": [
    {
     "name": "stdout",
     "output_type": "stream",
     "text": [
      "<class 'list'>\n"
     ]
    }
   ],
   "source": [
    "print(type(thislist))"
   ]
  },
  {
   "cell_type": "code",
   "execution_count": 26,
   "id": "26ecf698",
   "metadata": {},
   "outputs": [
    {
     "name": "stdout",
     "output_type": "stream",
     "text": [
      "21\n"
     ]
    }
   ],
   "source": [
    "print(list1[-1])  #Accessing elements"
   ]
  },
  {
   "cell_type": "code",
   "execution_count": 27,
   "id": "c344bb9f",
   "metadata": {},
   "outputs": [
    {
     "name": "stdout",
     "output_type": "stream",
     "text": [
      "Aravind\n"
     ]
    }
   ],
   "source": [
    "print(mylist[-2]) #Counting of elements starts from (0 to n-1) Ex:1 element Index is '0' and last element index number is n-1.\n",
    "                  #We can access the element from last i.e. last element starts from -1,-2 etcc.."
   ]
  },
  {
   "cell_type": "code",
   "execution_count": 28,
   "id": "79dae0e6",
   "metadata": {},
   "outputs": [
    {
     "name": "stdout",
     "output_type": "stream",
     "text": [
      "['Aravind', 'Teja', 'Daripineni']\n"
     ]
    }
   ],
   "source": [
    "print(thislist[0:3])"
   ]
  },
  {
   "cell_type": "code",
   "execution_count": 29,
   "id": "45aca724",
   "metadata": {},
   "outputs": [
    {
     "name": "stdout",
     "output_type": "stream",
     "text": [
      "['Naidu', 'Teja', 'Daripineni', 21, 24]\n"
     ]
    }
   ],
   "source": [
    "thislist[0] = \"Naidu\"  #Modifying the Elements\n",
    "print(thislist)"
   ]
  },
  {
   "cell_type": "code",
   "execution_count": 30,
   "id": "067bb4fa",
   "metadata": {},
   "outputs": [
    {
     "name": "stdout",
     "output_type": "stream",
     "text": [
      "['Naidu', 'Teja', 'Daripineni', 21, 24, 'Tarak']\n"
     ]
    }
   ],
   "source": [
    "thislist.append(\"Tarak\") #adding elements\n",
    "print(thislist)"
   ]
  },
  {
   "cell_type": "code",
   "execution_count": 31,
   "id": "4b90edb3",
   "metadata": {},
   "outputs": [
    {
     "name": "stdout",
     "output_type": "stream",
     "text": [
      "['Naidu', 'Teja', 'Chowdary', 'Daripineni', 21, 24, 'Tarak']\n"
     ]
    }
   ],
   "source": [
    "thislist.insert(2,\"Chowdary\") #inserting elements using index value\n",
    "print(thislist)"
   ]
  },
  {
   "cell_type": "code",
   "execution_count": 32,
   "id": "39a25975",
   "metadata": {},
   "outputs": [
    {
     "name": "stdout",
     "output_type": "stream",
     "text": [
      "['Naidu', 'Teja', 'Chowdary', 'Daripineni', 21, 24, 'Tarak', 'Teja', 'Aravind', 'Daripineni']\n"
     ]
    }
   ],
   "source": [
    "thislist.extend(mylist) #combining two  lists using extend function\n",
    "print(thislist)"
   ]
  },
  {
   "cell_type": "code",
   "execution_count": 33,
   "id": "ad4ca8f2",
   "metadata": {},
   "outputs": [
    {
     "name": "stdout",
     "output_type": "stream",
     "text": [
      "['Naidu', 'Chowdary', 'Daripineni', 21, 24, 'Tarak', 'Teja', 'Aravind', 'Daripineni']\n"
     ]
    }
   ],
   "source": [
    "thislist.remove(\"Teja\") #Removing element which we want\n",
    "print(thislist)"
   ]
  },
  {
   "cell_type": "code",
   "execution_count": 34,
   "id": "90bbabe3",
   "metadata": {},
   "outputs": [
    {
     "data": {
      "text/plain": [
       "'Daripineni'"
      ]
     },
     "execution_count": 34,
     "metadata": {},
     "output_type": "execute_result"
    }
   ],
   "source": [
    "thislist.pop()  #last element will be removed"
   ]
  },
  {
   "cell_type": "code",
   "execution_count": 35,
   "id": "d9d0ea71",
   "metadata": {},
   "outputs": [
    {
     "data": {
      "text/plain": [
       "24"
      ]
     },
     "execution_count": 35,
     "metadata": {},
     "output_type": "execute_result"
    }
   ],
   "source": [
    "thislist.pop(4) #Can delete specifying index"
   ]
  },
  {
   "cell_type": "code",
   "execution_count": 36,
   "id": "b3420970",
   "metadata": {},
   "outputs": [
    {
     "name": "stdout",
     "output_type": "stream",
     "text": [
      "['Naidu', 'Chowdary', 'Daripineni', 21, 'Tarak', 'Teja']\n"
     ]
    }
   ],
   "source": [
    "thislist.remove('Aravind')\n",
    "print(thislist)"
   ]
  },
  {
   "cell_type": "code",
   "execution_count": 37,
   "id": "d166db29",
   "metadata": {},
   "outputs": [
    {
     "ename": "NameError",
     "evalue": "name 'thislist' is not defined",
     "output_type": "error",
     "traceback": [
      "\u001b[1;31m---------------------------------------------------------------------------\u001b[0m",
      "\u001b[1;31mNameError\u001b[0m                                 Traceback (most recent call last)",
      "Cell \u001b[1;32mIn[37], line 2\u001b[0m\n\u001b[0;32m      1\u001b[0m \u001b[38;5;28;01mdel\u001b[39;00m thislist  \u001b[38;5;66;03m#we delete the declaration of total list\u001b[39;00m\n\u001b[1;32m----> 2\u001b[0m \u001b[38;5;28mprint\u001b[39m(thislist)\n",
      "\u001b[1;31mNameError\u001b[0m: name 'thislist' is not defined"
     ]
    }
   ],
   "source": [
    "del thislist  #we delete the declaration of total list\n",
    "print(thislist)"
   ]
  },
  {
   "cell_type": "code",
   "execution_count": 38,
   "id": "729afff0",
   "metadata": {},
   "outputs": [
    {
     "name": "stdout",
     "output_type": "stream",
     "text": [
      "[]\n"
     ]
    }
   ],
   "source": [
    "mylist.clear() #Here we declare only Elements\n",
    "print(mylist)"
   ]
  },
  {
   "cell_type": "code",
   "execution_count": 39,
   "id": "c44c8383",
   "metadata": {
    "scrolled": true
   },
   "outputs": [
    {
     "name": "stdout",
     "output_type": "stream",
     "text": [
      "Teja\n",
      "Aravind\n",
      "Daripineni\n",
      "21\n",
      "24\n"
     ]
    }
   ],
   "source": [
    "#Lists through Loops\n",
    "\n",
    "newlist = [\"Teja\",\"Aravind\",\"Daripineni\",21,24]\n",
    "for i in newlist:\n",
    "    print(i)"
   ]
  },
  {
   "cell_type": "code",
   "execution_count": 40,
   "id": "f476a133",
   "metadata": {},
   "outputs": [
    {
     "name": "stdout",
     "output_type": "stream",
     "text": [
      "0\n",
      "1\n",
      "2\n",
      "3\n",
      "4\n"
     ]
    }
   ],
   "source": [
    "for i in range(len(newlist)):\n",
    "    print(i)"
   ]
  },
  {
   "cell_type": "code",
   "execution_count": 41,
   "id": "2188d9a5",
   "metadata": {},
   "outputs": [
    {
     "name": "stdout",
     "output_type": "stream",
     "text": [
      "Teja\n",
      "Daripineni\n",
      "Presidency University\n"
     ]
    }
   ],
   "source": [
    "#Using While Loop\n",
    "\n",
    "newlist2 = [\"Teja\",\"Daripineni\",\"Presidency University\"]\n",
    "i = 0\n",
    "while i<len(newlist2):\n",
    "    print(newlist2[i])\n",
    "    i=i+1"
   ]
  },
  {
   "cell_type": "code",
   "execution_count": 42,
   "id": "eb289ce4",
   "metadata": {},
   "outputs": [
    {
     "name": "stdout",
     "output_type": "stream",
     "text": [
      "['Daripineni', 'Presidency University', 'Teja']\n"
     ]
    }
   ],
   "source": [
    "newlist2.sort() #Arranging in Ascending Order\n",
    "print(newlist2)"
   ]
  },
  {
   "cell_type": "code",
   "execution_count": null,
   "id": "c97d7a70",
   "metadata": {},
   "outputs": [],
   "source": []
  },
  {
   "cell_type": "code",
   "execution_count": null,
   "id": "aacbd69e",
   "metadata": {},
   "outputs": [],
   "source": []
  },
  {
   "cell_type": "markdown",
   "id": "73dbbc07",
   "metadata": {},
   "source": [
    "# Tuple\n",
    "\n",
    "1.Tuple is Type of Data Structures.\n",
    "\n",
    "2.In Tuple we can Access the Elements by using Index Number.\n",
    "\n",
    "3.It is Immutable.\n",
    "\n",
    "4.We cannot add or delete element from Tuple.\n",
    "\n",
    "5.Tuple is Enclosed with ()."
   ]
  },
  {
   "cell_type": "code",
   "execution_count": 43,
   "id": "39867b6d",
   "metadata": {},
   "outputs": [
    {
     "name": "stdout",
     "output_type": "stream",
     "text": [
      "('Teja', 'Daripineni', 'Daripineni', 'Aravind')\n"
     ]
    }
   ],
   "source": [
    "my_tuple = (\"Teja\",\"Daripineni\",\"Daripineni\",\"Aravind\")\n",
    "print(my_tuple)"
   ]
  },
  {
   "cell_type": "code",
   "execution_count": 44,
   "id": "c44898e2",
   "metadata": {},
   "outputs": [
    {
     "name": "stdout",
     "output_type": "stream",
     "text": [
      "<class 'tuple'>\n"
     ]
    }
   ],
   "source": [
    "print(type(my_tuple))"
   ]
  },
  {
   "cell_type": "code",
   "execution_count": 45,
   "id": "5a7c0344",
   "metadata": {},
   "outputs": [
    {
     "name": "stdout",
     "output_type": "stream",
     "text": [
      "4\n"
     ]
    }
   ],
   "source": [
    "print(len(my_tuple))"
   ]
  },
  {
   "cell_type": "code",
   "execution_count": 46,
   "id": "a16c0651",
   "metadata": {},
   "outputs": [
    {
     "data": {
      "text/plain": [
       "'Daripineni'"
      ]
     },
     "execution_count": 46,
     "metadata": {},
     "output_type": "execute_result"
    }
   ],
   "source": [
    "my_tuple[1] #Accessing"
   ]
  },
  {
   "cell_type": "code",
   "execution_count": 47,
   "id": "f79fb4a7",
   "metadata": {},
   "outputs": [
    {
     "data": {
      "text/plain": [
       "'Aravind'"
      ]
     },
     "execution_count": 47,
     "metadata": {},
     "output_type": "execute_result"
    }
   ],
   "source": [
    "my_tuple[-1] #Negative Indexing"
   ]
  },
  {
   "cell_type": "code",
   "execution_count": 48,
   "id": "7c0e6fed",
   "metadata": {},
   "outputs": [
    {
     "ename": "AttributeError",
     "evalue": "'tuple' object has no attribute 'append'",
     "output_type": "error",
     "traceback": [
      "\u001b[1;31m---------------------------------------------------------------------------\u001b[0m",
      "\u001b[1;31mAttributeError\u001b[0m                            Traceback (most recent call last)",
      "Cell \u001b[1;32mIn[48], line 1\u001b[0m\n\u001b[1;32m----> 1\u001b[0m my_tuple\u001b[38;5;241m.\u001b[39mappend(\u001b[38;5;124m\"\u001b[39m\u001b[38;5;124mNaidu\u001b[39m\u001b[38;5;124m\"\u001b[39m)\n",
      "\u001b[1;31mAttributeError\u001b[0m: 'tuple' object has no attribute 'append'"
     ]
    }
   ],
   "source": [
    "my_tuple.append(\"Naidu\")"
   ]
  },
  {
   "cell_type": "code",
   "execution_count": 49,
   "id": "3fc4bd3c",
   "metadata": {},
   "outputs": [
    {
     "name": "stdout",
     "output_type": "stream",
     "text": [
      "['Teja', 'Daripineni', 'Daripineni', 'Aravind']\n"
     ]
    }
   ],
   "source": [
    "x = list(my_tuple)\n",
    "print(x)"
   ]
  },
  {
   "cell_type": "code",
   "execution_count": 50,
   "id": "37494bda",
   "metadata": {},
   "outputs": [],
   "source": [
    "x.append(\"Naidu\")"
   ]
  },
  {
   "cell_type": "code",
   "execution_count": 51,
   "id": "5f09de3a",
   "metadata": {},
   "outputs": [
    {
     "name": "stdout",
     "output_type": "stream",
     "text": [
      "['Teja', 'Daripineni', 'Daripineni', 'Aravind', 'Naidu']\n"
     ]
    }
   ],
   "source": [
    "print(x)"
   ]
  },
  {
   "cell_type": "code",
   "execution_count": 52,
   "id": "8ccb1ccc",
   "metadata": {},
   "outputs": [
    {
     "name": "stdout",
     "output_type": "stream",
     "text": [
      "['Teja', 'Daripineni', 'Daripineni', 'Aravind', 'Naidu']\n"
     ]
    }
   ],
   "source": [
    "a = tuple(x)\n",
    "print(x)"
   ]
  },
  {
   "cell_type": "markdown",
   "id": "beb9a839",
   "metadata": {},
   "source": [
    "# SETS\n",
    "\n",
    "1.Set items are unordered, unchangeable, and do not allow duplicate values.\n",
    "\n",
    "2.Unordered means that the items in a set do not have a defined order.\n",
    "Set items can appear in a different order every time you use them, and cannot be referred to by index or key.\n",
    "\n",
    "3.Set items are unchangeable, meaning that we cannot change the items after the set has been created.Once a set is created, you cannot change its items, but you can remove items and add new items"
   ]
  },
  {
   "cell_type": "code",
   "execution_count": 53,
   "id": "5dce8125",
   "metadata": {},
   "outputs": [
    {
     "name": "stdout",
     "output_type": "stream",
     "text": [
      "{65, True, 'JOE', 'Tarak', 'JAY', 'Daripineni', 'Aravind', 25, 'Teja'}\n"
     ]
    }
   ],
   "source": [
    "myset = {\"Teja\",\"Aravind\",\"Daripineni\",\"JAY\",\"JOE\",\"Tarak\",25,65,True}\n",
    "print(myset)"
   ]
  },
  {
   "cell_type": "code",
   "execution_count": 54,
   "id": "c6d85175",
   "metadata": {},
   "outputs": [
    {
     "name": "stdout",
     "output_type": "stream",
     "text": [
      "65\n",
      "True\n",
      "JOE\n",
      "Tarak\n",
      "JAY\n",
      "Daripineni\n",
      "Aravind\n",
      "25\n",
      "Teja\n"
     ]
    }
   ],
   "source": [
    "for x in myset:\n",
    "    print(x)"
   ]
  },
  {
   "cell_type": "code",
   "execution_count": 55,
   "id": "ce7b4129",
   "metadata": {},
   "outputs": [
    {
     "name": "stdout",
     "output_type": "stream",
     "text": [
      "True\n"
     ]
    }
   ],
   "source": [
    "print(\"JAY\" in myset)"
   ]
  },
  {
   "cell_type": "code",
   "execution_count": 56,
   "id": "2b42d958",
   "metadata": {},
   "outputs": [
    {
     "name": "stdout",
     "output_type": "stream",
     "text": [
      "False\n"
     ]
    }
   ],
   "source": [
    "print(\"JAY\"  not in myset)"
   ]
  },
  {
   "cell_type": "markdown",
   "id": "e4912997",
   "metadata": {},
   "source": [
    "Once Set is Created you cannot change but you can add elements"
   ]
  },
  {
   "cell_type": "code",
   "execution_count": 57,
   "id": "5cb6637a",
   "metadata": {},
   "outputs": [
    {
     "name": "stdout",
     "output_type": "stream",
     "text": [
      "{65, True, 'JOE', 'Tarak', 'JAY', 'Mango', 'Daripineni', 'Aravind', 25, 'Teja'}\n"
     ]
    }
   ],
   "source": [
    "#Adding elements to set  function\n",
    "\n",
    "myset.add(\"Mango\")\n",
    "print(myset)"
   ]
  },
  {
   "cell_type": "code",
   "execution_count": 58,
   "id": "9c253f84",
   "metadata": {},
   "outputs": [],
   "source": [
    "#Combining two sets using update keyword\n",
    "set2 = {\"Banana\",\"Apple\",\"Grapes\"}\n",
    "myset.update(set2)"
   ]
  },
  {
   "cell_type": "code",
   "execution_count": 59,
   "id": "a2073f40",
   "metadata": {},
   "outputs": [
    {
     "name": "stdout",
     "output_type": "stream",
     "text": [
      "{65, True, 'Apple', 'JOE', 'Banana', 'Grapes', 'Tarak', 'JAY', 'Mango', 'Daripineni', 'Aravind', 25, 'Teja'}\n"
     ]
    }
   ],
   "source": [
    "print(myset)"
   ]
  },
  {
   "cell_type": "code",
   "execution_count": 60,
   "id": "3f9c81bc",
   "metadata": {},
   "outputs": [
    {
     "ename": "KeyError",
     "evalue": "'Hass'",
     "output_type": "error",
     "traceback": [
      "\u001b[1;31m---------------------------------------------------------------------------\u001b[0m",
      "\u001b[1;31mKeyError\u001b[0m                                  Traceback (most recent call last)",
      "Cell \u001b[1;32mIn[60], line 1\u001b[0m\n\u001b[1;32m----> 1\u001b[0m set2\u001b[38;5;241m.\u001b[39mremove(\u001b[38;5;124m\"\u001b[39m\u001b[38;5;124mHass\u001b[39m\u001b[38;5;124m\"\u001b[39m)\n",
      "\u001b[1;31mKeyError\u001b[0m: 'Hass'"
     ]
    }
   ],
   "source": [
    "set2.remove(\"Hass\") #If the item to remove does not exist, remove() will raise an error."
   ]
  },
  {
   "cell_type": "code",
   "execution_count": 61,
   "id": "d5f058b5",
   "metadata": {},
   "outputs": [],
   "source": [
    "set2.discard(\"hass\") # If the item to remove does not exist, discard() will NOT raise an error."
   ]
  },
  {
   "cell_type": "markdown",
   "id": "a4a693ac",
   "metadata": {},
   "source": [
    "Remaining Functions will follow as list functions"
   ]
  },
  {
   "cell_type": "markdown",
   "id": "10252666",
   "metadata": {},
   "source": [
    "**JOIN SETS**"
   ]
  },
  {
   "cell_type": "code",
   "execution_count": 62,
   "id": "ea07057c",
   "metadata": {},
   "outputs": [
    {
     "name": "stdout",
     "output_type": "stream",
     "text": [
      "{'F', 'G', 'H', 'E', 'A', 'C', 'D', 'B'}\n"
     ]
    }
   ],
   "source": [
    "set1 = {\"A\",\"B\",\"C\",\"D\"}\n",
    "set2 = {\"E\",\"F\",\"G\",\"H\"}\n",
    "\n",
    "set3 = set1.union(set2)  #Union Function\n",
    "print(set3)"
   ]
  },
  {
   "cell_type": "code",
   "execution_count": 63,
   "id": "8c49e5c1",
   "metadata": {},
   "outputs": [
    {
     "name": "stdout",
     "output_type": "stream",
     "text": [
      "{'F', 'G', 'H', 'E', 'A', 'C', 'D', 'B'}\n"
     ]
    }
   ],
   "source": [
    "set1 = {\"A\",\"B\",\"C\",\"D\"}\n",
    "set2 = {\"E\",\"F\",\"G\",\"H\"}\n",
    "\n",
    "set3 = set1|set2   #another type  of Union function\n",
    "print(set3)"
   ]
  },
  {
   "cell_type": "code",
   "execution_count": 64,
   "id": "21c4ff82",
   "metadata": {},
   "outputs": [
    {
     "name": "stdout",
     "output_type": "stream",
     "text": [
      "{'C', 'B', 'A'}\n"
     ]
    }
   ],
   "source": [
    "set4 = {\"A\",\"B\",\"C\",\"D\"}\n",
    "set5 = {\"A\",\"B\",\"C\",\"E\"}\n",
    "\n",
    "set6 = set4.intersection(set5)#intersection Function\n",
    "print(set6)"
   ]
  },
  {
   "cell_type": "code",
   "execution_count": 65,
   "id": "7529b329",
   "metadata": {},
   "outputs": [
    {
     "name": "stdout",
     "output_type": "stream",
     "text": [
      "{'C', 'B', 'A'}\n"
     ]
    }
   ],
   "source": [
    "set4 = {\"A\",\"B\",\"C\",\"D\"}\n",
    "set5 = {\"A\",\"B\",\"C\",\"E\"}\n",
    "\n",
    "set6 = set4&set5 # another intersection Function\n",
    "print(set6)"
   ]
  },
  {
   "cell_type": "code",
   "execution_count": 66,
   "id": "dbf964b1",
   "metadata": {},
   "outputs": [
    {
     "name": "stdout",
     "output_type": "stream",
     "text": [
      "{1, 2, 3, 'John', 'apple', 'b', 'c', 'bananas', 'cherry', 'a', 'Elena'}\n"
     ]
    }
   ],
   "source": [
    "#Joining multiple sets\n",
    "set1 = {\"a\", \"b\", \"c\"}\n",
    "set2 = {1, 2, 3}\n",
    "set3 = {\"John\", \"Elena\"}\n",
    "set4 = {\"apple\", \"bananas\", \"cherry\"}\n",
    "\n",
    "myset = set1.union(set2, set3, set4)\n",
    "print(myset)"
   ]
  },
  {
   "cell_type": "code",
   "execution_count": 67,
   "id": "83a699a9",
   "metadata": {},
   "outputs": [
    {
     "name": "stdout",
     "output_type": "stream",
     "text": [
      "{1, 2, 3, 'John', 'apple', 'b', 'c', 'bananas', 'cherry', 'a', 'Elena'}\n"
     ]
    }
   ],
   "source": [
    "set1 = {\"a\", \"b\", \"c\"}\n",
    "set2 = {1, 2, 3}\n",
    "set3 = {\"John\", \"Elena\"}\n",
    "set4 = {\"apple\", \"bananas\", \"cherry\"}\n",
    "\n",
    "myset = set1 | set2 | set3 |set4\n",
    "print(myset)"
   ]
  },
  {
   "cell_type": "code",
   "execution_count": 68,
   "id": "4f3f82c7",
   "metadata": {},
   "outputs": [
    {
     "name": "stdout",
     "output_type": "stream",
     "text": [
      "{'banana', 'cherry'}\n"
     ]
    }
   ],
   "source": [
    "set1 = {\"apple\", \"banana\", \"cherry\"}\n",
    "set2 = {\"google\", \"microsoft\", \"apple\"}\n",
    "\n",
    "set3 = set1.difference(set2) #difference() method\n",
    "\n",
    "print(set3)"
   ]
  },
  {
   "cell_type": "code",
   "execution_count": 69,
   "id": "15eec11a",
   "metadata": {},
   "outputs": [
    {
     "name": "stdout",
     "output_type": "stream",
     "text": [
      "{'banana', 'cherry'}\n"
     ]
    }
   ],
   "source": [
    "set1 = {\"apple\", \"banana\", \"cherry\"}\n",
    "set2 = {\"google\", \"microsoft\", \"apple\"}\n",
    "\n",
    "set3 = set1-set2\n",
    "\n",
    "print(set3)"
   ]
  },
  {
   "cell_type": "markdown",
   "id": "5a2e63a5",
   "metadata": {},
   "source": [
    "# Dictionaries\n",
    "\n",
    "1.Dictionaries are used to store data values in key:value pairs.\n",
    "\n",
    "2.A dictionary is a collection which is ordered*, changeable and do not allow duplicates.\n",
    "\n",
    "3.Dictionaries are enclosed with {}.\n",
    "\n",
    "4.Dictionary items are ordered, changeable, and do not allow duplicates.\n",
    "\n",
    "5.Dictionary items are presented in key:value pairs, and can be referred to by using the key name."
   ]
  },
  {
   "cell_type": "code",
   "execution_count": 70,
   "id": "cc035d69",
   "metadata": {},
   "outputs": [
    {
     "name": "stdout",
     "output_type": "stream",
     "text": [
      "{'name': 'TEJA', 'age': 21, 'class': 'B.tech'}\n"
     ]
    }
   ],
   "source": [
    "thisdict = {\n",
    "  \"name\": \"TEJA\",\n",
    "  \"age\": 21,\n",
    "  \"class\": \"B.tech\"\n",
    "}\n",
    "print(thisdict)"
   ]
  },
  {
   "cell_type": "code",
   "execution_count": 71,
   "id": "b44bcd82",
   "metadata": {},
   "outputs": [
    {
     "name": "stdout",
     "output_type": "stream",
     "text": [
      "B.tech\n"
     ]
    }
   ],
   "source": [
    "print(thisdict['class'])"
   ]
  },
  {
   "cell_type": "code",
   "execution_count": 72,
   "id": "8549cf6b",
   "metadata": {},
   "outputs": [
    {
     "name": "stdout",
     "output_type": "stream",
     "text": [
      "3\n"
     ]
    }
   ],
   "source": [
    "print(len(thisdict))"
   ]
  },
  {
   "cell_type": "code",
   "execution_count": 73,
   "id": "17235a03",
   "metadata": {},
   "outputs": [
    {
     "name": "stdout",
     "output_type": "stream",
     "text": [
      "<class 'dict'>\n"
     ]
    }
   ],
   "source": [
    "print(type(thisdict))"
   ]
  },
  {
   "cell_type": "code",
   "execution_count": null,
   "id": "ee1e88c0",
   "metadata": {},
   "outputs": [],
   "source": []
  }
 ],
 "metadata": {
  "kernelspec": {
   "display_name": "Python 3 (ipykernel)",
   "language": "python",
   "name": "python3"
  },
  "language_info": {
   "codemirror_mode": {
    "name": "ipython",
    "version": 3
   },
   "file_extension": ".py",
   "mimetype": "text/x-python",
   "name": "python",
   "nbconvert_exporter": "python",
   "pygments_lexer": "ipython3",
   "version": "3.11.5"
  }
 },
 "nbformat": 4,
 "nbformat_minor": 5
}
